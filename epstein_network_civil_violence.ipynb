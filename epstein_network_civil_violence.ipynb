{
 "cells": [
  {
   "cell_type": "code",
   "execution_count": 2,
   "id": "b3928293-4a51-4d68-92ed-9576f1249b79",
   "metadata": {},
   "source": [
    "%matplotlib inline\n",
    "\n",
    "from epstein_network_civil_violence.model import EpsteinCivilViolence"
   ],
   "outputs": []
  },
  {
   "cell_type": "code",
   "execution_count": 3,
   "id": "04d343d0-a15d-42e0-8ffd-8e7d1657f8b8",
   "metadata": {},
   "source": [
    "model = EpsteinCivilViolence(\n",
    "    height=40,\n",
    "    width=40,\n",
    "    citizen_density=0.7,\n",
    "    cop_density=0.074,\n",
    "    citizen_vision=7,\n",
    "    cop_vision=7,\n",
    "    legitimacy=0.8,\n",
    "    max_jail_term=1000,\n",
    "    max_iters=1000,\n",
    ")  # cap the number of steps the model takes\n",
    "model.run_model()\n"
   ],
   "outputs": []
  },
  {
   "cell_type": "markdown",
   "id": "281697e0-6010-4526-8b6f-68706fd26b4d",
   "metadata": {},
   "source": [
    "The model's data collector counts the number of citizens who are Active (in rebellion), Jailed, or Quiescent after each step.\n",
    "\n"
   ]
  },
  {
   "cell_type": "code",
   "execution_count": 4,
   "id": "7b7c9140-2558-4c05-85a1-4a5d89825584",
   "metadata": {},
   "source": [
    "model_out = model.datacollector.get_model_vars_dataframe()"
   ],
   "outputs": []
  },
  {
   "cell_type": "code",
   "execution_count": 5,
   "id": "7b5a0890-0277-4278-a174-ab527413c571",
   "metadata": {},
   "source": [
    "ax = model_out.plot()\n",
    "ax.set_title(\"Citizen Condition Over Time\")\n",
    "ax.set_xlabel(\"Step\")\n",
    "ax.set_ylabel(\"Number of Citizens\")\n",
    "_ = ax.legend(bbox_to_anchor=(1.35, 1.025))\n"
   ],
   "outputs": []
  },
  {
   "cell_type": "code",
   "execution_count": null,
   "id": "6d0eece5-ab80-4243-8755-c70a9450378b",
   "metadata": {},
   "source": [],
   "outputs": []
  }
 ],
 "metadata": {
  "kernelspec": {
   "display_name": "abm",
   "language": "python",
   "name": "abmenv"
  },
  "language_info": {
   "codemirror_mode": {
    "name": "ipython",
    "version": 3
   },
   "file_extension": ".py",
   "mimetype": "text/x-python",
   "name": "python",
   "nbconvert_exporter": "python",
   "pygments_lexer": "ipython3",
   "version": "3.11.6"
  }
 },
 "nbformat": 4,
 "nbformat_minor": 5
}
